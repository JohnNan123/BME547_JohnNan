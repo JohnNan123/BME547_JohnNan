{
 "cells": [
  {
   "cell_type": "code",
   "execution_count": 1,
   "id": "b9852f18",
   "metadata": {},
   "outputs": [
    {
     "name": "stdout",
     "output_type": "stream",
     "text": [
      "Enter patient weight in form of ## units (e.g., 105 lb)\n",
      "Enter weight: 56 lb\n",
      "The patient weight of 25 kg will be stored in database.\n"
     ]
    }
   ],
   "source": [
    "def input_weight_entry():\n",
    "    print(\"Enter patient weight in form of ## units (e.g., 105 lb)\")\n",
    "    weight_input = input(\"Enter weight: \")\n",
    "    weight_in_kg = parse_weight_input(weight_input)\n",
    "    print(\"The patient weight of {} kg will be stored \"\n",
    "          \"in database.\".format(weight_in_kg))\n",
    "\n",
    "\n",
    "def parse_weight_input(weight_input):\n",
    "    weight, units = weight_input.split(' ')\n",
    "    weight = int(weight)\n",
    "    if units == \"lb\":\n",
    "        weight_kg = convert_lb_to_kg(weight)\n",
    "    else:\n",
    "        weight_kg = weight\n",
    "    weight_kg = round(weight_kg)\n",
    "    return weight_kg\n",
    "\n",
    "\n",
    "def convert_lb_to_kg(weight_lb):\n",
    "    weight_kg = weight_lb / 2.20462\n",
    "    return weight_kg\n",
    "\n",
    "\n",
    "if __name__ == \"__main__\":\n",
    "    input_weight_entry()"
   ]
  },
  {
   "cell_type": "code",
   "execution_count": null,
   "id": "b9e6fb3f",
   "metadata": {},
   "outputs": [],
   "source": []
  }
 ],
 "metadata": {
  "kernelspec": {
   "display_name": "Python 3.9.7 64-bit ('BME547': conda)",
   "language": "python",
   "name": "python397jvsc74a57bd0b875d927b1450847711710b81504a3af8de91a0ad79d4ea606669c9dd5d6d17b"
  },
  "language_info": {
   "codemirror_mode": {
    "name": "ipython",
    "version": 3
   },
   "file_extension": ".py",
   "mimetype": "text/x-python",
   "name": "python",
   "nbconvert_exporter": "python",
   "pygments_lexer": "ipython3",
   "version": "3.9.7"
  }
 },
 "nbformat": 4,
 "nbformat_minor": 5
}
