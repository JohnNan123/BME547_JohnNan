{
 "cells": [
  {
   "cell_type": "code",
   "execution_count": 1,
   "id": "d3aec5a2",
   "metadata": {},
   "outputs": [],
   "source": [
    "import pytest\n",
    "\n",
    "\n",
    "@pytest.mark.parametrize(\"input, expected\", [\n",
    "    (\"++++tachycardia_____\", True),\n",
    "    (\"++++tachyca_____\", False),\n",
    "    ])\n",
    "def test_parse_weight_input(input, expected):\n",
    "    from weight_entry import parse_weight_input\n",
    "    answer = parse_weight_input(input)\n",
    "    assert answer == expected\n"
   ]
  },
  {
   "cell_type": "code",
   "execution_count": null,
   "id": "815fc466",
   "metadata": {},
   "outputs": [],
   "source": []
  }
 ],
 "metadata": {
  "kernelspec": {
   "display_name": "Python 3.9.7 64-bit ('BME547': conda)",
   "language": "python",
   "name": "python397jvsc74a57bd0b875d927b1450847711710b81504a3af8de91a0ad79d4ea606669c9dd5d6d17b"
  },
  "language_info": {
   "codemirror_mode": {
    "name": "ipython",
    "version": 3
   },
   "file_extension": ".py",
   "mimetype": "text/x-python",
   "name": "python",
   "nbconvert_exporter": "python",
   "pygments_lexer": "ipython3",
   "version": "3.9.7"
  }
 },
 "nbformat": 4,
 "nbformat_minor": 5
}
